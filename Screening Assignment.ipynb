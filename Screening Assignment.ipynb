{
 "cells": [
  {
   "cell_type": "code",
   "execution_count": 12,
   "id": "c874277d",
   "metadata": {},
   "outputs": [],
   "source": [
    "with open('example.txt',\"w\") as f:\n",
    "    f.write('This is a placement assignment')\n",
    "    f.close()"
   ]
  },
  {
   "cell_type": "code",
   "execution_count": 18,
   "id": "5cee00a9",
   "metadata": {},
   "outputs": [],
   "source": [
    "def replace_string(file):\n",
    "    file=open (file,'r')\n",
    "    file=file.read()\n",
    "    file=file.replace('placement','screening')\n",
    "    return file"
   ]
  },
  {
   "cell_type": "code",
   "execution_count": 19,
   "id": "fe6bd185",
   "metadata": {},
   "outputs": [
    {
     "data": {
      "text/plain": [
       "'This is a screening assignment'"
      ]
     },
     "execution_count": 19,
     "metadata": {},
     "output_type": "execute_result"
    }
   ],
   "source": [
    "replace_string('example.txt')"
   ]
  },
  {
   "cell_type": "markdown",
   "id": "c7ecf953",
   "metadata": {},
   "source": [
    "##Abstaction\n",
    "\n",
    "A class is called an Abstract class if it contains one or more abstract methods. An abstract method is a method that is declared, but contains no implementation. Abstract classes may not be instantiated, and its abstract methods must be implemented by its subclasses."
   ]
  },
  {
   "cell_type": "code",
   "execution_count": 22,
   "id": "f7cd45f8",
   "metadata": {},
   "outputs": [],
   "source": [
    "from abc import ABC,abstractmethod\n",
    " \n",
    "class Animal(ABC):\n",
    " \n",
    "    #concrete method\n",
    "    def sleep(self):\n",
    "        print(\"I am going to sleep in a while\")\n",
    " \n",
    "    @abstractmethod\n",
    "    def sound(self):\n",
    "        print(\"This function is for defining the sound by any animal\")\n",
    "        pass\n",
    " \n",
    "class Snake(Animal):\n",
    "    def sound(self):\n",
    "        print(\"I can hiss\")\n",
    " \n",
    "class Dog(Animal):\n",
    "    def sound(self):\n",
    "        print(\"I can bark\")\n",
    " \n",
    "class Lion(Animal):\n",
    "    def sound(self):\n",
    "        print(\"I can roar\")\n",
    "       \n",
    "class Cat(Animal):\n",
    "    def sound(self):\n",
    "        print(\"I can meow\")\n",
    "       \n",
    "    \n"
   ]
  },
  {
   "cell_type": "code",
   "execution_count": 27,
   "id": "9e079f93",
   "metadata": {},
   "outputs": [
    {
     "name": "stdout",
     "output_type": "stream",
     "text": [
      "I am going to sleep in a while\n",
      "I can meow\n",
      "I can hiss\n"
     ]
    }
   ],
   "source": [
    "c = Cat()\n",
    "c.sleep()\n",
    "c.sound()\n",
    " \n",
    "c = Snake()\n",
    "c.sound()"
   ]
  },
  {
   "cell_type": "markdown",
   "id": "436cfd84",
   "metadata": {},
   "source": [
    "##Multiple Inheritance"
   ]
  },
  {
   "cell_type": "markdown",
   "id": "a20bd90b",
   "metadata": {},
   "source": [
    "Deriving a class from more than one direct base class is called multiple inheritance."
   ]
  },
  {
   "cell_type": "code",
   "execution_count": null,
   "id": "6f442bf2",
   "metadata": {},
   "outputs": [],
   "source": []
  },
  {
   "cell_type": "code",
   "execution_count": 33,
   "id": "cd9ab4ec",
   "metadata": {},
   "outputs": [],
   "source": [
    "class A:\n",
    "    def method1(self):\n",
    "        print(\"A class method is called\")\n",
    "class B(A):\n",
    "    def method1(self):\n",
    "        print(\"B class method is called\")\n",
    "class C(A):\n",
    "    def method1(self):\n",
    "        print(\"C class method is called\")\n",
    "class D(B,C):\n",
    "    def method1(self):\n",
    "        print(\"D class method is called\")\n",
    "        C.method1(self)\n",
    "        B.method1(self)\n",
    "        A.method1(self)\n"
   ]
  },
  {
   "cell_type": "code",
   "execution_count": 34,
   "id": "d4502e18",
   "metadata": {},
   "outputs": [
    {
     "name": "stdout",
     "output_type": "stream",
     "text": [
      "D class method is called\n",
      "C class method is called\n",
      "B class method is called\n",
      "A class method is called\n"
     ]
    }
   ],
   "source": [
    "d = D()\n",
    "\n",
    "d.method1()"
   ]
  },
  {
   "cell_type": "code",
   "execution_count": null,
   "id": "064ed9a3",
   "metadata": {},
   "outputs": [],
   "source": []
  },
  {
   "cell_type": "markdown",
   "id": "f71fe501",
   "metadata": {},
   "source": [
    "##Decorator\n",
    "\n",
    "A decorator is a design pattern in Python that allows a user to add new functionality to an existing object without modifying its structure."
   ]
  },
  {
   "cell_type": "code",
   "execution_count": 35,
   "id": "eb3374ba",
   "metadata": {},
   "outputs": [],
   "source": [
    "def div(a,b):\n",
    "    print (a/b)"
   ]
  },
  {
   "cell_type": "code",
   "execution_count": 36,
   "id": "6c5534bf",
   "metadata": {},
   "outputs": [],
   "source": [
    "def div1(func):\n",
    "    \n",
    "    def div2(a,b):\n",
    "        if a<b:\n",
    "            a,b=b,a\n",
    "        return func (a,b)\n",
    "    return div2"
   ]
  },
  {
   "cell_type": "code",
   "execution_count": 37,
   "id": "6911a1c8",
   "metadata": {},
   "outputs": [],
   "source": [
    "div=div1(div)"
   ]
  },
  {
   "cell_type": "code",
   "execution_count": 43,
   "id": "0e621e64",
   "metadata": {},
   "outputs": [
    {
     "name": "stdout",
     "output_type": "stream",
     "text": [
      "2.0\n"
     ]
    }
   ],
   "source": [
    "div(2,4)"
   ]
  },
  {
   "cell_type": "code",
   "execution_count": null,
   "id": "56c041e2",
   "metadata": {},
   "outputs": [],
   "source": []
  }
 ],
 "metadata": {
  "kernelspec": {
   "display_name": "Python 3 (ipykernel)",
   "language": "python",
   "name": "python3"
  },
  "language_info": {
   "codemirror_mode": {
    "name": "ipython",
    "version": 3
   },
   "file_extension": ".py",
   "mimetype": "text/x-python",
   "name": "python",
   "nbconvert_exporter": "python",
   "pygments_lexer": "ipython3",
   "version": "3.9.12"
  }
 },
 "nbformat": 4,
 "nbformat_minor": 5
}
